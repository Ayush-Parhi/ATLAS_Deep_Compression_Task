{
  "nbformat": 4,
  "nbformat_minor": 0,
  "metadata": {
    "colab": {
      "name": "Deep Compression Task.ipynb",
      "provenance": []
    },
    "kernelspec": {
      "name": "python3",
      "display_name": "Python 3"
    },
    "accelerator": "GPU"
  },
  "cells": [
    {
      "cell_type": "markdown",
      "metadata": {
        "id": "9xW7i3zzpZBh"
      },
      "source": [
        "### Installing the latest version of fastai"
      ]
    },
    {
      "cell_type": "code",
      "metadata": {
        "colab": {
          "base_uri": "https://localhost:8080/"
        },
        "id": "IRSVYohcqiVM",
        "outputId": "414662fd-bba8-4365-f34b-4502fafe1c74"
      },
      "source": [
        "!pip install torch --upgrade"
      ],
      "execution_count": 1,
      "outputs": [
        {
          "output_type": "stream",
          "text": [
            "Requirement already up-to-date: torch in /usr/local/lib/python3.7/dist-packages (1.8.0+cu101)\n",
            "Requirement already satisfied, skipping upgrade: typing-extensions in /usr/local/lib/python3.7/dist-packages (from torch) (3.7.4.3)\n",
            "Requirement already satisfied, skipping upgrade: numpy in /usr/local/lib/python3.7/dist-packages (from torch) (1.19.5)\n"
          ],
          "name": "stdout"
        }
      ]
    },
    {
      "cell_type": "code",
      "metadata": {
        "colab": {
          "base_uri": "https://localhost:8080/"
        },
        "id": "RL0_ebGgqgzD",
        "outputId": "65327e80-64e0-4fda-b10e-2747100fb3ce"
      },
      "source": [
        "!pip install fastai --upgrade"
      ],
      "execution_count": 2,
      "outputs": [
        {
          "output_type": "stream",
          "text": [
            "Collecting fastai\n",
            "\u001b[?25l  Downloading https://files.pythonhosted.org/packages/79/50/0b81742909d433ef5b67b4417597b41cd37b38a073714bc83dc150c81b2f/fastai-2.2.7-py3-none-any.whl (193kB)\n",
            "\r\u001b[K     |█▊                              | 10kB 14.3MB/s eta 0:00:01\r\u001b[K     |███▍                            | 20kB 19.5MB/s eta 0:00:01\r\u001b[K     |█████                           | 30kB 20.4MB/s eta 0:00:01\r\u001b[K     |██████▉                         | 40kB 17.0MB/s eta 0:00:01\r\u001b[K     |████████▌                       | 51kB 12.7MB/s eta 0:00:01\r\u001b[K     |██████████▏                     | 61kB 13.5MB/s eta 0:00:01\r\u001b[K     |███████████▉                    | 71kB 10.9MB/s eta 0:00:01\r\u001b[K     |█████████████▋                  | 81kB 11.5MB/s eta 0:00:01\r\u001b[K     |███████████████▎                | 92kB 11.2MB/s eta 0:00:01\r\u001b[K     |█████████████████               | 102kB 11.3MB/s eta 0:00:01\r\u001b[K     |██████████████████▋             | 112kB 11.3MB/s eta 0:00:01\r\u001b[K     |████████████████████▍           | 122kB 11.3MB/s eta 0:00:01\r\u001b[K     |██████████████████████          | 133kB 11.3MB/s eta 0:00:01\r\u001b[K     |███████████████████████▊        | 143kB 11.3MB/s eta 0:00:01\r\u001b[K     |█████████████████████████▍      | 153kB 11.3MB/s eta 0:00:01\r\u001b[K     |███████████████████████████▏    | 163kB 11.3MB/s eta 0:00:01\r\u001b[K     |████████████████████████████▉   | 174kB 11.3MB/s eta 0:00:01\r\u001b[K     |██████████████████████████████▌ | 184kB 11.3MB/s eta 0:00:01\r\u001b[K     |████████████████████████████████| 194kB 11.3MB/s \n",
            "\u001b[?25hRequirement already satisfied, skipping upgrade: fastprogress>=0.2.4 in /usr/local/lib/python3.7/dist-packages (from fastai) (1.0.0)\n",
            "Requirement already satisfied, skipping upgrade: pandas in /usr/local/lib/python3.7/dist-packages (from fastai) (1.1.5)\n",
            "Requirement already satisfied, skipping upgrade: matplotlib in /usr/local/lib/python3.7/dist-packages (from fastai) (3.2.2)\n",
            "Requirement already satisfied, skipping upgrade: pyyaml in /usr/local/lib/python3.7/dist-packages (from fastai) (3.13)\n",
            "Requirement already satisfied, skipping upgrade: scikit-learn in /usr/local/lib/python3.7/dist-packages (from fastai) (0.22.2.post1)\n",
            "Requirement already satisfied, skipping upgrade: pillow>6.0.0 in /usr/local/lib/python3.7/dist-packages (from fastai) (7.0.0)\n",
            "Requirement already satisfied, skipping upgrade: packaging in /usr/local/lib/python3.7/dist-packages (from fastai) (20.9)\n",
            "Collecting fastcore<1.4,>=1.3.8\n",
            "\u001b[?25l  Downloading https://files.pythonhosted.org/packages/0c/98/60404e2817cff113a6ae4023bc1772e23179408fdf7857fa410551758dfe/fastcore-1.3.19-py3-none-any.whl (53kB)\n",
            "\u001b[K     |████████████████████████████████| 61kB 6.9MB/s \n",
            "\u001b[?25hCollecting torch<1.8,>=1.7.0\n",
            "\u001b[?25l  Downloading https://files.pythonhosted.org/packages/90/5d/095ddddc91c8a769a68c791c019c5793f9c4456a688ddd235d6670924ecb/torch-1.7.1-cp37-cp37m-manylinux1_x86_64.whl (776.8MB)\n",
            "\u001b[K     |████████████████████████████████| 776.8MB 24kB/s \n",
            "\u001b[?25hCollecting torchvision<0.9,>=0.8\n",
            "\u001b[?25l  Downloading https://files.pythonhosted.org/packages/94/df/969e69a94cff1c8911acb0688117f95e1915becc1e01c73e7960a2c76ec8/torchvision-0.8.2-cp37-cp37m-manylinux1_x86_64.whl (12.8MB)\n",
            "\u001b[K     |████████████████████████████████| 12.8MB 238kB/s \n",
            "\u001b[?25hRequirement already satisfied, skipping upgrade: spacy<3 in /usr/local/lib/python3.7/dist-packages (from fastai) (2.2.4)\n",
            "Requirement already satisfied, skipping upgrade: requests in /usr/local/lib/python3.7/dist-packages (from fastai) (2.23.0)\n",
            "Requirement already satisfied, skipping upgrade: scipy in /usr/local/lib/python3.7/dist-packages (from fastai) (1.4.1)\n",
            "Requirement already satisfied, skipping upgrade: pip in /usr/local/lib/python3.7/dist-packages (from fastai) (19.3.1)\n",
            "Requirement already satisfied, skipping upgrade: numpy in /usr/local/lib/python3.7/dist-packages (from fastprogress>=0.2.4->fastai) (1.19.5)\n",
            "Requirement already satisfied, skipping upgrade: python-dateutil>=2.7.3 in /usr/local/lib/python3.7/dist-packages (from pandas->fastai) (2.8.1)\n",
            "Requirement already satisfied, skipping upgrade: pytz>=2017.2 in /usr/local/lib/python3.7/dist-packages (from pandas->fastai) (2018.9)\n",
            "Requirement already satisfied, skipping upgrade: cycler>=0.10 in /usr/local/lib/python3.7/dist-packages (from matplotlib->fastai) (0.10.0)\n",
            "Requirement already satisfied, skipping upgrade: kiwisolver>=1.0.1 in /usr/local/lib/python3.7/dist-packages (from matplotlib->fastai) (1.3.1)\n",
            "Requirement already satisfied, skipping upgrade: pyparsing!=2.0.4,!=2.1.2,!=2.1.6,>=2.0.1 in /usr/local/lib/python3.7/dist-packages (from matplotlib->fastai) (2.4.7)\n",
            "Requirement already satisfied, skipping upgrade: joblib>=0.11 in /usr/local/lib/python3.7/dist-packages (from scikit-learn->fastai) (1.0.1)\n",
            "Requirement already satisfied, skipping upgrade: typing-extensions in /usr/local/lib/python3.7/dist-packages (from torch<1.8,>=1.7.0->fastai) (3.7.4.3)\n",
            "Requirement already satisfied, skipping upgrade: preshed<3.1.0,>=3.0.2 in /usr/local/lib/python3.7/dist-packages (from spacy<3->fastai) (3.0.5)\n",
            "Requirement already satisfied, skipping upgrade: catalogue<1.1.0,>=0.0.7 in /usr/local/lib/python3.7/dist-packages (from spacy<3->fastai) (1.0.0)\n",
            "Requirement already satisfied, skipping upgrade: wasabi<1.1.0,>=0.4.0 in /usr/local/lib/python3.7/dist-packages (from spacy<3->fastai) (0.8.2)\n",
            "Requirement already satisfied, skipping upgrade: thinc==7.4.0 in /usr/local/lib/python3.7/dist-packages (from spacy<3->fastai) (7.4.0)\n",
            "Requirement already satisfied, skipping upgrade: murmurhash<1.1.0,>=0.28.0 in /usr/local/lib/python3.7/dist-packages (from spacy<3->fastai) (1.0.5)\n",
            "Requirement already satisfied, skipping upgrade: setuptools in /usr/local/lib/python3.7/dist-packages (from spacy<3->fastai) (54.1.2)\n",
            "Requirement already satisfied, skipping upgrade: tqdm<5.0.0,>=4.38.0 in /usr/local/lib/python3.7/dist-packages (from spacy<3->fastai) (4.41.1)\n",
            "Requirement already satisfied, skipping upgrade: plac<1.2.0,>=0.9.6 in /usr/local/lib/python3.7/dist-packages (from spacy<3->fastai) (1.1.3)\n",
            "Requirement already satisfied, skipping upgrade: cymem<2.1.0,>=2.0.2 in /usr/local/lib/python3.7/dist-packages (from spacy<3->fastai) (2.0.5)\n",
            "Requirement already satisfied, skipping upgrade: srsly<1.1.0,>=1.0.2 in /usr/local/lib/python3.7/dist-packages (from spacy<3->fastai) (1.0.5)\n",
            "Requirement already satisfied, skipping upgrade: blis<0.5.0,>=0.4.0 in /usr/local/lib/python3.7/dist-packages (from spacy<3->fastai) (0.4.1)\n",
            "Requirement already satisfied, skipping upgrade: certifi>=2017.4.17 in /usr/local/lib/python3.7/dist-packages (from requests->fastai) (2020.12.5)\n",
            "Requirement already satisfied, skipping upgrade: chardet<4,>=3.0.2 in /usr/local/lib/python3.7/dist-packages (from requests->fastai) (3.0.4)\n",
            "Requirement already satisfied, skipping upgrade: urllib3!=1.25.0,!=1.25.1,<1.26,>=1.21.1 in /usr/local/lib/python3.7/dist-packages (from requests->fastai) (1.24.3)\n",
            "Requirement already satisfied, skipping upgrade: idna<3,>=2.5 in /usr/local/lib/python3.7/dist-packages (from requests->fastai) (2.10)\n",
            "Requirement already satisfied, skipping upgrade: six>=1.5 in /usr/local/lib/python3.7/dist-packages (from python-dateutil>=2.7.3->pandas->fastai) (1.15.0)\n",
            "Requirement already satisfied, skipping upgrade: importlib-metadata>=0.20; python_version < \"3.8\" in /usr/local/lib/python3.7/dist-packages (from catalogue<1.1.0,>=0.0.7->spacy<3->fastai) (3.7.2)\n",
            "Requirement already satisfied, skipping upgrade: zipp>=0.5 in /usr/local/lib/python3.7/dist-packages (from importlib-metadata>=0.20; python_version < \"3.8\"->catalogue<1.1.0,>=0.0.7->spacy<3->fastai) (3.4.1)\n",
            "\u001b[31mERROR: torchtext 0.9.0 has requirement torch==1.8.0, but you'll have torch 1.7.1 which is incompatible.\u001b[0m\n",
            "Installing collected packages: fastcore, torch, torchvision, fastai\n",
            "  Found existing installation: torch 1.8.0+cu101\n",
            "    Uninstalling torch-1.8.0+cu101:\n",
            "      Successfully uninstalled torch-1.8.0+cu101\n",
            "  Found existing installation: torchvision 0.9.0+cu101\n",
            "    Uninstalling torchvision-0.9.0+cu101:\n",
            "      Successfully uninstalled torchvision-0.9.0+cu101\n",
            "  Found existing installation: fastai 1.0.61\n",
            "    Uninstalling fastai-1.0.61:\n",
            "      Successfully uninstalled fastai-1.0.61\n",
            "Successfully installed fastai-2.2.7 fastcore-1.3.19 torch-1.7.1 torchvision-0.8.2\n"
          ],
          "name": "stdout"
        }
      ]
    },
    {
      "cell_type": "markdown",
      "metadata": {
        "id": "AqrgmgP4pi1-"
      },
      "source": [
        "### Library Imports"
      ]
    },
    {
      "cell_type": "code",
      "metadata": {
        "id": "FZSq0VYfYJIx"
      },
      "source": [
        "import os\n",
        "import random\n",
        "import pandas as pd\n",
        "import numpy as np\n",
        "import matplotlib.pyplot as plt\n",
        "from sklearn.model_selection import train_test_split"
      ],
      "execution_count": 1,
      "outputs": []
    },
    {
      "cell_type": "markdown",
      "metadata": {
        "id": "_ZRMbNuWpsTW"
      },
      "source": [
        "### Function to Extract only Jet particles"
      ]
    },
    {
      "cell_type": "code",
      "metadata": {
        "id": "9lq1srrxzJAy"
      },
      "source": [
        "def only_jets(df):    \n",
        "    ignore_particles = ['e-', 'e+', 'm-', 'm+', 'g', 'b']\n",
        "    ignore_list = []\n",
        "    for i in range(len(df)):\n",
        "        for j in df.loc[i].keys():\n",
        "            if 'obj' in j:\n",
        "                if df.loc[i][j] in ignore_particles:\n",
        "                    ignore_list.append(i)\n",
        "                    break\n",
        "\n",
        "    print(ignore_list)\n",
        "\n",
        "    df = df.drop(ignore_list)"
      ],
      "execution_count": 2,
      "outputs": []
    },
    {
      "cell_type": "markdown",
      "metadata": {
        "id": "ThzhB7tSyK4l"
      },
      "source": [
        "### Some helper Functions"
      ]
    },
    {
      "cell_type": "code",
      "metadata": {
        "id": "K6CWo5MSxTNc"
      },
      "source": [
        "def std_error(x, axis=None, ddof=0):\n",
        "    return np.nanstd(x, axis=axis, ddof=ddof) / np.sqrt(2 * len(x))"
      ],
      "execution_count": 56,
      "outputs": []
    },
    {
      "cell_type": "code",
      "metadata": {
        "id": "cCU1QA1LnLSC"
      },
      "source": [
        "import matplotlib as mpl\n",
        "import matplotlib.pyplot as plt\n",
        "from colorsys import hsv_to_rgb\n",
        "\n",
        "\n",
        "def set_my_style():\n",
        "    # lines\n",
        "    mpl.rcParams['lines.linewidth'] = 2\n",
        "    mpl.rcParams['lines.color'] = 'r'\n",
        "\n",
        "    # axis\n",
        "    mpl.rcParams['axes.titlesize'] = 26\n",
        "    mpl.rcParams['axes.grid'] = True\n",
        "\n",
        "\n",
        "def sciy():\n",
        "    plt.gca().ticklabel_format(style='sci', scilimits=(0, 0), axis='y')\n",
        "\n",
        "\n",
        "def scix():\n",
        "    plt.gca().ticklabel_format(style='sci', scilimits=(0, 0), axis='x')\n",
        "\n",
        "\n",
        "def colorprog(i_prog, Nplots, v1=.9, v2=1., cm='hsv'):\n",
        "    if hasattr(Nplots, '__len__'):\n",
        "        Nplots = len(Nplots)\n",
        "    if cm == 'hsv':\n",
        "        return hsv_to_rgb(float(i_prog) / float(Nplots), v1, v2)\n",
        "    elif cm == 'rainbow':\n",
        "        return [plt.cm.rainbow(k) for k in np.linspace(0, 1, Nplots)][i_prog]\n",
        "    else:\n",
        "        raise ValueError('What?!')"
      ],
      "execution_count": 37,
      "outputs": []
    },
    {
      "cell_type": "markdown",
      "metadata": {
        "id": "JzTesqgKp2Na"
      },
      "source": [
        "### Function to Create dataset from the raw Data"
      ]
    },
    {
      "cell_type": "code",
      "metadata": {
        "id": "avSuXydAYUfm"
      },
      "source": [
        "def csv_to_df(input_path, save_path):\n",
        "    data = []    \n",
        "    print('Reading data at ', input_path)\n",
        "    with open(input_path, 'r') as file:\n",
        "        for line in file.readlines():\n",
        "            line = line.replace(';', ',')\n",
        "            line = line.rstrip(',\\n')\n",
        "            line = line.split(',')\n",
        "            data.append(line)\n",
        "\n",
        "    #Find the longest line in the data \n",
        "    longest_line = max(data, key = len)\n",
        "\n",
        "    #Set the maximum number of columns\n",
        "    max_col_num = len(longest_line)\n",
        "\n",
        "    #Set the columns names\n",
        "    col_names = ['event_ID', 'process_ID', 'event_weight', 'MET', 'MET_Phi']\n",
        "    meta_cols = col_names.copy()\n",
        "\n",
        "    for i in range(1, (int((max_col_num-5)/5))+1):\n",
        "        col_names.append('obj'+str(i))\n",
        "        col_names.append('E'+str(i))\n",
        "        col_names.append('pt'+str(i))\n",
        "        col_names.append('eta'+str(i))\n",
        "        col_names.append('phi'+str(i))\n",
        "\n",
        "\n",
        "    print('Processing the data..')\n",
        "    df = pd.DataFrame(data, columns=col_names)\n",
        "    df.fillna(value=np.nan, inplace=True)\n",
        "\n",
        "    one_hot = pd.get_dummies(df['process_ID'])\n",
        "\n",
        "    \n",
        "\n",
        "    # Create the train-test split\n",
        "    x_train, x_test, _, _ = train_test_split(df.values, one_hot.values, \n",
        "                                                shuffle = True,\n",
        "                                                random_state = 42,\n",
        "                                                test_size = 0.1)\n",
        "    \n",
        "    del df\n",
        "    x_train_df = pd.DataFrame(x_train, columns=col_names)\n",
        "    x_train_df.fillna(value=0, inplace=True)\n",
        "    x_test_df = pd.DataFrame(x_test, columns=col_names)\n",
        "    x_test_df.fillna(value=0, inplace=True)\n",
        "\n",
        "    meta_train_df = x_train_df[meta_cols]\n",
        "    meta_train_df.to_pickle(save_path + '_metaData_train.pkl')\n",
        "\n",
        "    meta_test_df = x_test_df[meta_cols]\n",
        "    meta_test_df.to_pickle(save_path + '_metaData_test.pkl')\n",
        "\n",
        "    x_train_df = x_train_df.drop(columns=meta_cols)\n",
        "    x = x_train_df.values.reshape([x_train_df.shape[0]*x_train_df.shape[1]//5,5])\n",
        "\n",
        "    lst = []\n",
        "    for i in range(x.shape[0]):\n",
        "        if (x[i] == 0).all():\n",
        "            lst.append(i)\n",
        "    data_train = np.delete(x, lst, 0)\n",
        "\n",
        "    x_test_df = x_test_df.drop(columns=meta_cols)\n",
        "    x = x_test_df.values.reshape([x_test_df.shape[0]*x_test_df.shape[1]//5,5])\n",
        "\n",
        "    lst = []\n",
        "    for i in range(x.shape[0]):\n",
        "        if (x[i] == 0).all():\n",
        "            lst.append(i)\n",
        "    data_test = np.delete(x, lst, 0)\n",
        "\n",
        "    col_names = ['obj', 'E', 'pt', 'eta', 'phi']\n",
        "\n",
        "    data_train_df = pd.DataFrame(data_train, columns=col_names)\n",
        "    data_train_df['obj'].to_pickle(save_path + '_meta_obj_train.pkl')\n",
        "\n",
        "    data_test_df = pd.DataFrame(data_test, columns=col_names)\n",
        "    data_test_df['obj'].to_pickle(save_path + '_meta_obj_test.pkl')\n",
        "\n",
        "    only_jets(data_train_df)\n",
        "    only_jets(data_test_df)\n",
        "\n",
        "    data_train_df = data_train_df.drop(columns='obj')\n",
        "    data_test_df = data_test_df.drop(columns='obj')\n",
        "    \n",
        "    data_train_df = data_train_df.astype('float32')\n",
        "    data_test_df = data_test_df.astype('float32')\n",
        "\n",
        "    data_train_df.to_pickle(save_path + '_4D_train.pkl')\n",
        "    data_test_df.to_pickle(save_path + '_4D_test.pkl')\n",
        "\n",
        "    return\n",
        "\n",
        "\n",
        "    \n"
      ],
      "execution_count": 3,
      "outputs": []
    },
    {
      "cell_type": "code",
      "metadata": {
        "colab": {
          "base_uri": "https://localhost:8080/"
        },
        "id": "alf3pgxpYfkt",
        "outputId": "586a9444-4534-4c51-b624-3c695ab99950"
      },
      "source": [
        "csv_to_df(\"/content/drive/MyDrive/monojet_Zp2000.0_DM_50.0_chan3.csv\", \"/content/drive/MyDrive/Deep Compression Task/Pickled Data/\")"
      ],
      "execution_count": 4,
      "outputs": [
        {
          "output_type": "stream",
          "text": [
            "Reading data at  /content/drive/MyDrive/monojet_Zp2000.0_DM_50.0_chan3.csv\n",
            "Processing the data..\n",
            "[4, 92, 97, 104, 138, 148, 221, 262, 334, 350, 352, 359, 373, 376, 471, 494, 534, 573, 601, 610, 622, 653, 656, 707, 712, 717, 741, 744, 759, 760, 766, 834, 835, 843, 895, 948, 977, 1026, 1040, 1041, 1064, 1067, 1069, 1080, 1196, 1224, 1254, 1261, 1309, 1328, 1343, 1344, 1345, 1377, 1385, 1432, 1446, 1541, 1627, 1637, 1643, 1665, 1674, 1683, 1710, 1722, 1735, 1748, 1771, 1885, 1915, 1935, 1991, 1998, 2050, 2077, 2079, 2097, 2100, 2117, 2161, 2212, 2213, 2216, 2224, 2228, 2258, 2291, 2292, 2323, 2339, 2347, 2410, 2439, 2449, 2452, 2454, 2465, 2469, 2488, 2519, 2520, 2521, 2550, 2568, 2579, 2580, 2591, 2593, 2598, 2599, 2664, 2756, 2765, 2777, 2806, 2828, 2836, 2852, 2865, 2892, 2893, 2913, 2975, 2993, 3008, 3010, 3012, 3048, 3049, 3105, 3117, 3120, 3129, 3164, 3243, 3285, 3318, 3342, 3351, 3418, 3459, 3535, 3536, 3547, 3561, 3572, 3581, 3587, 3608, 3629, 3653, 3733, 3782, 3838, 3870, 4057, 4101, 4261, 4296, 4331, 4351, 4387, 4389, 4430, 4435, 4452, 4453, 4473, 4508, 4543, 4584, 4600, 4642, 4653, 4693, 4742, 4787, 4887, 4894, 4908, 4945, 5030, 5045, 5079, 5106, 5215, 5264, 5330, 5338, 5340, 5375, 5431, 5445, 5470, 5483, 5516, 5518, 5582, 5604, 5631, 5642, 5661, 5665, 5740, 5745, 5910, 5931, 5945, 5971, 5988, 5994, 6008, 6018, 6032, 6036, 6046, 6056, 6111, 6173, 6193, 6317, 6337, 6366, 6397, 6402, 6410, 6568, 6616, 6688, 6703, 6735, 6779, 6797, 6802, 6825, 6826, 6827, 6828, 6834, 6860, 6956, 6957, 6988, 7010, 7082, 7085, 7141, 7143, 7145, 7177, 7252, 7275, 7287, 7297, 7307, 7318, 7358, 7368, 7436, 7467, 7531, 7537, 7542, 7558, 7569, 7579, 7596, 7619, 7624, 7647, 7653, 7665, 7695, 7724, 7725, 7752, 7756, 7791, 7831, 7856, 7862, 7934, 7957, 7959, 8013, 8032, 8036, 8054, 8055, 8079, 8117, 8127, 8128, 8180, 8240, 8339, 8346, 8378, 8472, 8549, 8561, 8602, 8671, 8686, 8755, 8785, 8823, 8841, 8842, 8848, 8880, 8891, 8893, 8906, 8922, 8993, 9046, 9072, 9102, 9105, 9153, 9177, 9192, 9194, 9212, 9242, 9247, 9249, 9269, 9281, 9312, 9354, 9357, 9365, 9387, 9419, 9434, 9447, 9449, 9466, 9517, 9537, 9620, 9625, 9626, 9629, 9641, 9676, 9742, 9825, 9851, 9875, 9884, 9885, 9970, 10027, 10028, 10052, 10063, 10081, 10108, 10124, 10173, 10180, 10197, 10237, 10240, 10258, 10271, 10334, 10335, 10358, 10369, 10384, 10391, 10476, 10512, 10551, 10572, 10577, 10581, 10586, 10603, 10608, 10649, 10656, 10658, 10660, 10676, 10702, 10706, 10741, 10756, 10798, 10806, 10813, 10824, 10825, 10833, 10834, 10835, 10893, 10896, 10897, 10905, 10948, 10963, 11093, 11095, 11141, 11175, 11213, 11237, 11249, 11276, 11277, 11278, 11306, 11309, 11324, 11325, 11338, 11342, 11431, 11432, 11443, 11494, 11496, 11514, 11523, 11556, 11558, 11582, 11591, 11644, 11663, 11678, 11680, 11685, 11701, 11740, 11741, 11742, 11823, 11830, 11864, 11909, 11957, 11979, 11986, 12026, 12071, 12097, 12099, 12120, 12164, 12188, 12251, 12253, 12261, 12369, 12377, 12408, 12420, 12449, 12494, 12511, 12545, 12623, 12676, 12677, 12750, 12840, 12845, 12918, 13076, 13109, 13150, 13162, 13202, 13244, 13304, 13309, 13348, 13405, 13428, 13468, 13480, 13486, 13531, 13570, 13572, 13616, 13617, 13646, 13647, 13649, 13661, 13746, 13773, 13852, 13854, 13863, 13984, 14070, 14076, 14081, 14093, 14132, 14150, 14156, 14169, 14170, 14181, 14226, 14295, 14296, 14315, 14316, 14344, 14350, 14364, 14408, 14414, 14425, 14454, 14518, 14547, 14635, 14698, 14714, 14751, 14770, 14825, 14868, 14884, 14885, 14905, 14917, 14918, 14935, 14948, 14949, 14950, 14962, 14971, 14976, 15004, 15050, 15107, 15236, 15252, 15302, 15317, 15358, 15373, 15395, 15496, 15519, 15527, 15570, 15636, 15652, 15671, 15675, 15744, 15747, 15790, 15795, 15875, 15879, 15889, 15898, 15996, 16055, 16064, 16071, 16140, 16171, 16210, 16213, 16239, 16254, 16266, 16339, 16348, 16352, 16353, 16390, 16475, 16480, 16521, 16544, 16556, 16563, 16635, 16684, 16726, 16888, 16900, 16908, 16973, 16993, 17007, 17008, 17024, 17052, 17056, 17080, 17083, 17109, 17121, 17123, 17125, 17155, 17162, 17196, 17227, 17250, 17261, 17380, 17437, 17498, 17513, 17525, 17591, 17611, 17643, 17663, 17679, 17716, 17774, 17797, 17808, 17824, 17841, 17914, 17984, 18015, 18036, 18041, 18042, 18081, 18086, 18163, 18244, 18262, 18264, 18303, 18319, 18370, 18383, 18395, 18473, 18503, 18504, 18513, 18518, 18535, 18605, 18621, 18647, 18686, 18688, 18782, 18813, 18878, 19028, 19046, 19064, 19182, 19208, 19212, 19274, 19287, 19298, 19325, 19350, 19379, 19392, 19394, 19410, 19412, 19426, 19428, 19429, 19481, 19482, 19535, 19598, 19602, 19622, 19623, 19648, 19650, 19651, 19778, 19782, 19802, 19809, 19849, 19883, 19906, 19923, 19962, 19982, 19990, 19995, 20005, 20040, 20115, 20121, 20145, 20168, 20177, 20187, 20205, 20278, 20340, 20342, 20433, 20437, 20484, 20636, 20649, 20660, 20726, 20736, 20802, 20842, 20866, 20903, 20912, 20970, 20974]\n",
            "[8, 41, 48, 49, 87, 126, 133, 157, 174, 197, 233, 338, 351, 505, 532, 571, 609, 677, 689, 715, 723, 743, 749, 805, 809, 812, 841, 850, 895, 902, 945, 960, 985, 1011, 1092, 1115, 1137, 1156, 1201, 1279, 1283, 1286, 1321, 1384, 1464, 1544, 1594, 1605, 1625, 1631, 1640, 1641, 1648, 1717, 1729, 1782, 1791, 1817, 1846, 1935, 1956, 1997, 2024, 2096, 2127, 2156, 2161, 2163, 2176, 2194, 2222, 2235, 2312, 2318, 2346, 2347]\n"
          ],
          "name": "stdout"
        }
      ]
    },
    {
      "cell_type": "code",
      "metadata": {
        "id": "6TFdGVUGh7Pt"
      },
      "source": [
        "train = pd.read_pickle(\"/content/drive/MyDrive/Deep Compression Task/Pickled Data/_4D_train.pkl\")\n",
        "test = pd.read_pickle(\"/content/drive/MyDrive/Deep Compression Task/Pickled Data/_4D_test.pkl\")"
      ],
      "execution_count": 5,
      "outputs": []
    },
    {
      "cell_type": "code",
      "metadata": {
        "colab": {
          "base_uri": "https://localhost:8080/"
        },
        "id": "pQ2h-CC5ktrg",
        "outputId": "85b849aa-96a0-48d8-d92f-0f58ea3769b1"
      },
      "source": [
        "train.shape"
      ],
      "execution_count": 6,
      "outputs": [
        {
          "output_type": "execute_result",
          "data": {
            "text/plain": [
              "(21105, 4)"
            ]
          },
          "metadata": {
            "tags": []
          },
          "execution_count": 6
        }
      ]
    },
    {
      "cell_type": "code",
      "metadata": {
        "colab": {
          "base_uri": "https://localhost:8080/",
          "height": 206
        },
        "id": "YoRU82n3kxU5",
        "outputId": "79667070-5a9f-482c-9148-7ee0eec0c0c6"
      },
      "source": [
        "test.head()"
      ],
      "execution_count": 7,
      "outputs": [
        {
          "output_type": "execute_result",
          "data": {
            "text/html": [
              "<div>\n",
              "<style scoped>\n",
              "    .dataframe tbody tr th:only-of-type {\n",
              "        vertical-align: middle;\n",
              "    }\n",
              "\n",
              "    .dataframe tbody tr th {\n",
              "        vertical-align: top;\n",
              "    }\n",
              "\n",
              "    .dataframe thead th {\n",
              "        text-align: right;\n",
              "    }\n",
              "</style>\n",
              "<table border=\"1\" class=\"dataframe\">\n",
              "  <thead>\n",
              "    <tr style=\"text-align: right;\">\n",
              "      <th></th>\n",
              "      <th>E</th>\n",
              "      <th>pt</th>\n",
              "      <th>eta</th>\n",
              "      <th>phi</th>\n",
              "    </tr>\n",
              "  </thead>\n",
              "  <tbody>\n",
              "    <tr>\n",
              "      <th>0</th>\n",
              "      <td>991867.000000</td>\n",
              "      <td>818339.000000</td>\n",
              "      <td>-0.637444</td>\n",
              "      <td>0.643446</td>\n",
              "    </tr>\n",
              "    <tr>\n",
              "      <th>1</th>\n",
              "      <td>209093.000000</td>\n",
              "      <td>178835.000000</td>\n",
              "      <td>0.506598</td>\n",
              "      <td>-2.294510</td>\n",
              "    </tr>\n",
              "    <tr>\n",
              "      <th>2</th>\n",
              "      <td>55242.101562</td>\n",
              "      <td>43436.500000</td>\n",
              "      <td>-0.683999</td>\n",
              "      <td>-1.945310</td>\n",
              "    </tr>\n",
              "    <tr>\n",
              "      <th>3</th>\n",
              "      <td>505625.000000</td>\n",
              "      <td>33674.601562</td>\n",
              "      <td>-3.400870</td>\n",
              "      <td>2.941330</td>\n",
              "    </tr>\n",
              "    <tr>\n",
              "      <th>4</th>\n",
              "      <td>498470.000000</td>\n",
              "      <td>30339.699219</td>\n",
              "      <td>3.491140</td>\n",
              "      <td>-2.627340</td>\n",
              "    </tr>\n",
              "  </tbody>\n",
              "</table>\n",
              "</div>"
            ],
            "text/plain": [
              "               E             pt       eta       phi\n",
              "0  991867.000000  818339.000000 -0.637444  0.643446\n",
              "1  209093.000000  178835.000000  0.506598 -2.294510\n",
              "2   55242.101562   43436.500000 -0.683999 -1.945310\n",
              "3  505625.000000   33674.601562 -3.400870  2.941330\n",
              "4  498470.000000   30339.699219  3.491140 -2.627340"
            ]
          },
          "metadata": {
            "tags": []
          },
          "execution_count": 7
        }
      ]
    },
    {
      "cell_type": "markdown",
      "metadata": {
        "id": "9bLH8YJkqVs9"
      },
      "source": [
        "## Data Normalization\n"
      ]
    },
    {
      "cell_type": "markdown",
      "metadata": {
        "id": "kLSCKNsIqMVi"
      },
      "source": [
        "Parameters for custom normalization:\n",
        "        \\begin{equation}\n",
        "                E \\xrightarrow . ([log_{10}(E / 1000) ]  + 1) / 1.8 \\\\\n",
        "                p_t \\xrightarrow . ([log_{10}(p_t / 1000) ]  - 1.3) / 1.2 \\\\\n",
        "                \\eta \\xrightarrow . \\eta / 5 \\\\\n",
        "                \\phi \\xrightarrow . \\phi / 3 \\\\\n",
        "        \\end{equation}"
      ]
    },
    {
      "cell_type": "code",
      "metadata": {
        "colab": {
          "base_uri": "https://localhost:8080/"
        },
        "id": "MqUs7PRqk0lZ",
        "outputId": "204f0d1b-5963-4fa1-a183-1960888d643d"
      },
      "source": [
        "variables = test.keys()\n",
        "\n",
        "train['E'] = train['E'] / 1000.0\n",
        "train['pt'] = train['pt'] / 1000.0\n",
        "test['E'] = test['E'] / 1000.0\n",
        "test['pt'] = test['pt'] / 1000.0\n",
        "\n",
        "train['eta'] = train['eta'] / 5\n",
        "train['phi'] = train['phi'] / 3\n",
        "train['E'] = np.log10(train['E']) \n",
        "train['pt'] = np.log10(train['pt'])\n",
        "\n",
        "test['eta'] = test['eta'] / 5\n",
        "test['phi'] = test['phi'] / 3\n",
        "test['E'] = np.log10(test['E']) \n",
        "test['pt'] = np.log10(test['pt'])\n",
        "\n",
        "print(test.shape)"
      ],
      "execution_count": 8,
      "outputs": [
        {
          "output_type": "stream",
          "text": [
            "(2368, 4)\n"
          ],
          "name": "stdout"
        }
      ]
    },
    {
      "cell_type": "markdown",
      "metadata": {
        "id": "V9szZ4W8qpzY"
      },
      "source": [
        "### Essential factors for custom normalization"
      ]
    },
    {
      "cell_type": "code",
      "metadata": {
        "id": "6tNtsZA5Li4C"
      },
      "source": [
        "m_div = 1.8\n",
        "m_add = 1\n",
        "pt_sub = 1.3\n",
        "pt_div = 1.2\n",
        "eta_div = 5\n",
        "phi_div = 3\n"
      ],
      "execution_count": 9,
      "outputs": []
    },
    {
      "cell_type": "markdown",
      "metadata": {
        "id": "OQwQwmdRqkX7"
      },
      "source": [
        "### Function for custom normalization"
      ]
    },
    {
      "cell_type": "code",
      "metadata": {
        "id": "3UuOTu9QLkVy"
      },
      "source": [
        "def custom_normalization(train, test):\n",
        "    train_cp = train.copy()\n",
        "    test_cp = test.copy()\n",
        "    \n",
        "    for data in [train_cp, test_cp]:\n",
        "        data['pt'] = (np.log10(data['pt']) - pt_sub) / pt_div\n",
        "        data['phi'] = data['phi'] / phi_div\n",
        "        data['eta'] = data['eta'] / eta_div\n",
        "        data['E'] = np.log10(data['E'] + m_add) / m_div\n",
        "\n",
        "    return train_cp, test_cp"
      ],
      "execution_count": 10,
      "outputs": []
    },
    {
      "cell_type": "code",
      "metadata": {
        "id": "yTHCRqjCmnfs"
      },
      "source": [
        "def custom_unnormalize_4m(normalized_data):\n",
        "    data = normalized_data.copy()\n",
        "    data[:,0] = np.power(10, data[:,0]) - m_add \n",
        "    data[:,1] = np.power(10, data[:,1]) + pt_sub \n",
        "    data[:,2] = data[:,2] * phi_div\n",
        "    data[:,3] = data[:,3] * eta_div\n",
        "    return data"
      ],
      "execution_count": 36,
      "outputs": []
    },
    {
      "cell_type": "code",
      "metadata": {
        "id": "dD27mlXoLrNE"
      },
      "source": [
        "train, test = custom_normalization(train, test)"
      ],
      "execution_count": 11,
      "outputs": []
    },
    {
      "cell_type": "code",
      "metadata": {
        "colab": {
          "base_uri": "https://localhost:8080/"
        },
        "id": "xa1px24tk8sl",
        "outputId": "c013a889-f33c-4f70-faac-894b1ae93105"
      },
      "source": [
        "for key in test.keys():\n",
        "    print(key)"
      ],
      "execution_count": 12,
      "outputs": [
        {
          "output_type": "stream",
          "text": [
            "E\n",
            "pt\n",
            "eta\n",
            "phi\n"
          ],
          "name": "stdout"
        }
      ]
    },
    {
      "cell_type": "code",
      "metadata": {
        "colab": {
          "base_uri": "https://localhost:8080/"
        },
        "id": "7niOW-Tpk_oQ",
        "outputId": "c0e06a24-9754-4237-cd77-32a7f5c84507"
      },
      "source": [
        "len(test.keys())"
      ],
      "execution_count": 13,
      "outputs": [
        {
          "output_type": "execute_result",
          "data": {
            "text/plain": [
              "4"
            ]
          },
          "metadata": {
            "tags": []
          },
          "execution_count": 13
        }
      ]
    },
    {
      "cell_type": "code",
      "metadata": {
        "colab": {
          "base_uri": "https://localhost:8080/",
          "height": 206
        },
        "id": "KQC2wHZ4lEIE",
        "outputId": "dd1b8863-3f60-43dd-cc5f-2709a2032124"
      },
      "source": [
        "test.head()"
      ],
      "execution_count": 14,
      "outputs": [
        {
          "output_type": "execute_result",
          "data": {
            "text/html": [
              "<div>\n",
              "<style scoped>\n",
              "    .dataframe tbody tr th:only-of-type {\n",
              "        vertical-align: middle;\n",
              "    }\n",
              "\n",
              "    .dataframe tbody tr th {\n",
              "        vertical-align: top;\n",
              "    }\n",
              "\n",
              "    .dataframe thead th {\n",
              "        text-align: right;\n",
              "    }\n",
              "</style>\n",
              "<table border=\"1\" class=\"dataframe\">\n",
              "  <thead>\n",
              "    <tr style=\"text-align: right;\">\n",
              "      <th></th>\n",
              "      <th>E</th>\n",
              "      <th>pt</th>\n",
              "      <th>eta</th>\n",
              "      <th>phi</th>\n",
              "    </tr>\n",
              "  </thead>\n",
              "  <tbody>\n",
              "    <tr>\n",
              "      <th>0</th>\n",
              "      <td>0.334264</td>\n",
              "      <td>-0.696391</td>\n",
              "      <td>-0.025498</td>\n",
              "      <td>0.071494</td>\n",
              "    </tr>\n",
              "    <tr>\n",
              "      <th>1</th>\n",
              "      <td>0.289546</td>\n",
              "      <td>-0.789454</td>\n",
              "      <td>0.020264</td>\n",
              "      <td>-0.254946</td>\n",
              "    </tr>\n",
              "    <tr>\n",
              "      <th>2</th>\n",
              "      <td>0.243395</td>\n",
              "      <td>-0.904770</td>\n",
              "      <td>-0.027360</td>\n",
              "      <td>-0.216146</td>\n",
              "    </tr>\n",
              "    <tr>\n",
              "      <th>3</th>\n",
              "      <td>0.315917</td>\n",
              "      <td>-0.930062</td>\n",
              "      <td>-0.136035</td>\n",
              "      <td>0.326814</td>\n",
              "    </tr>\n",
              "    <tr>\n",
              "      <th>4</th>\n",
              "      <td>0.315514</td>\n",
              "      <td>-0.940957</td>\n",
              "      <td>0.139646</td>\n",
              "      <td>-0.291927</td>\n",
              "    </tr>\n",
              "  </tbody>\n",
              "</table>\n",
              "</div>"
            ],
            "text/plain": [
              "          E        pt       eta       phi\n",
              "0  0.334264 -0.696391 -0.025498  0.071494\n",
              "1  0.289546 -0.789454  0.020264 -0.254946\n",
              "2  0.243395 -0.904770 -0.027360 -0.216146\n",
              "3  0.315917 -0.930062 -0.136035  0.326814\n",
              "4  0.315514 -0.940957  0.139646 -0.291927"
            ]
          },
          "metadata": {
            "tags": []
          },
          "execution_count": 14
        }
      ]
    },
    {
      "cell_type": "markdown",
      "metadata": {
        "id": "NLRU9TPnrQza"
      },
      "source": [
        "## Visualizing normalized data"
      ]
    },
    {
      "cell_type": "code",
      "metadata": {
        "id": "887ZAN8SlHXx"
      },
      "source": [
        "def plot_all(data, logy=False):\n",
        "    for key in data.keys():\n",
        "        plt.figure()\n",
        "        plt.hist(data[key], bins=200)\n",
        "        plt.xlabel(str(key))\n",
        "        plt.ylabel('Number of jets')\n",
        "        if logy:\n",
        "            plt.yscale('log')\n",
        "        else:\n",
        "            sciy()"
      ],
      "execution_count": 43,
      "outputs": []
    },
    {
      "cell_type": "markdown",
      "metadata": {
        "id": "1ZpvDSI0r_vG"
      },
      "source": [
        "### Training data"
      ]
    },
    {
      "cell_type": "code",
      "metadata": {
        "colab": {
          "base_uri": "https://localhost:8080/",
          "height": 1000
        },
        "id": "BRGtgkvor19t",
        "outputId": "268c055a-0ed4-456d-c8ce-1429219bb4a2"
      },
      "source": [
        "logy = True\n",
        "plot_all(train, logy)"
      ],
      "execution_count": 42,
      "outputs": [
        {
          "output_type": "display_data",
          "data": {
            "image/png": "[encoded data removed]",
            "text/plain": [
              "<Figure size 432x288 with 1 Axes>"
            ]
          },
          "metadata": {
            "tags": [],
            "needs_background": "light"
          }
        },
        {
          "output_type": "display_data",
          "data": {
            "image/png": "[encoded data removed]",
            "text/plain": [
              "<Figure size 432x288 with 1 Axes>"
            ]
          },
          "metadata": {
            "tags": [],
            "needs_background": "light"
          }
        },
        {
          "output_type": "display_data",
          "data": {
            "image/png": "[encoded data removed]",
            "text/plain": [
              "<Figure size 432x288 with 1 Axes>"
            ]
          },
          "metadata": {
            "tags": [],
            "needs_background": "light"
          }
        },
        {
          "output_type": "display_data",
          "data": {
            "image/png": "[encoded data removed]",
            "text/plain": [
              "<Figure size 432x288 with 1 Axes>"
            ]
          },
          "metadata": {
            "tags": [],
            "needs_background": "light"
          }
        }
      ]
    },
    {
      "cell_type": "markdown",
      "metadata": {
        "id": "D0YrWWZjsPKN"
      },
      "source": [
        "### Validation data"
      ]
    },
    {
      "cell_type": "code",
      "metadata": {
        "colab": {
          "base_uri": "https://localhost:8080/",
          "height": 1000
        },
        "id": "aY1czjculVnW",
        "outputId": "dd646d90-a146-4d1c-e831-53a621854f45"
      },
      "source": [
        "logy = True\n",
        "plot_all(test, logy)"
      ],
      "execution_count": 18,
      "outputs": [
        {
          "output_type": "display_data",
          "data": {
            "image/png": "[encoded data removed]",
            "text/plain": [
              "<Figure size 432x288 with 1 Axes>"
            ]
          },
          "metadata": {
            "tags": [],
            "needs_background": "light"
          }
        },
        {
          "output_type": "display_data",
          "data": {
            "image/png": "[encoded data removed]",
            "text/plain": [
              "<Figure size 432x288 with 1 Axes>"
            ]
          },
          "metadata": {
            "tags": [],
            "needs_background": "light"
          }
        },
        {
          "output_type": "display_data",
          "data": {
            "image/png": "[encoded data removed]",
            "text/plain": [
              "<Figure size 432x288 with 1 Axes>"
            ]
          },
          "metadata": {
            "tags": [],
            "needs_background": "light"
          }
        },
        {
          "output_type": "display_data",
          "data": {
            "image/png": "[encoded data removed]",
            "text/plain": [
              "<Figure size 432x288 with 1 Axes>"
            ]
          },
          "metadata": {
            "tags": [],
            "needs_background": "light"
          }
        }
      ]
    },
    {
      "cell_type": "markdown",
      "metadata": {
        "id": "MPAzbm63sauo"
      },
      "source": [
        "### Creating a databunch for training"
      ]
    },
    {
      "cell_type": "code",
      "metadata": {
        "id": "6doyoEVhXXHG"
      },
      "source": [
        "import torch\n",
        "import torch.nn as nn\n",
        "import torch.optim as optim\n",
        "import torch.utils.data \n",
        "from torch.autograd import Variable \n",
        "\n",
        "from torch.utils.data import TensorDataset\n",
        "from torch.utils.data import DataLoader\n",
        "\n",
        "from fastai import learner\n",
        "from fastai.data import core\n",
        "\n",
        "train_x = train\n",
        "test_x = test\n",
        "train_y = train_x\n",
        "test_y = test_x\n",
        "\n",
        "train_ds = TensorDataset(torch.tensor(train_x.values, dtype=torch.float), torch.tensor(train_y.values, dtype=torch.float))\n",
        "valid_ds = TensorDataset(torch.tensor(test_x.values, dtype=torch.float), torch.tensor(test_y.values, dtype=torch.float))\n"
      ],
      "execution_count": 19,
      "outputs": []
    },
    {
      "cell_type": "code",
      "metadata": {
        "id": "g_LX5dMcpBEj"
      },
      "source": [
        "bs = 256\n",
        "\n",
        "train_dl = DataLoader(train_ds, batch_size=bs, shuffle=True)\n",
        "valid_dl = DataLoader(valid_ds, batch_size=bs * 2)\n",
        "dls = core.DataLoaders(train_dl, valid_dl)"
      ],
      "execution_count": 20,
      "outputs": []
    },
    {
      "cell_type": "markdown",
      "metadata": {
        "id": "r-P_XiQpslTe"
      },
      "source": [
        "### Model Architecture\n"
      ]
    },
    {
      "cell_type": "code",
      "metadata": {
        "id": "0qgcGmpQJADm"
      },
      "source": [
        "class AE_bn_LeakyReLU(nn.Module):\n",
        "    def __init__(self, nodes, no_last_bias=False):\n",
        "        super(AE_bn_LeakyReLU, self).__init__()\n",
        "        n_layers = len(nodes)\n",
        "        ins_n_outs = []\n",
        "        en_modulelist = nn.ModuleList()\n",
        "        de_modulelist = nn.ModuleList()\n",
        "        for ii in range(n_layers // 2):\n",
        "            ins = nodes[ii]\n",
        "            outs = nodes[ii + 1]\n",
        "            ins_n_outs.append((ins, outs))\n",
        "            en_modulelist.append(nn.Linear(ins, outs))\n",
        "            en_modulelist.append(nn.LeakyReLU())\n",
        "            en_modulelist.append(nn.BatchNorm1d(outs))\n",
        "        for ii in range(n_layers // 2):\n",
        "            ii += n_layers // 2\n",
        "            ins = nodes[ii]\n",
        "            outs = nodes[ii + 1]\n",
        "            de_modulelist.append(nn.Linear(ins, outs))\n",
        "            de_modulelist.append(nn.LeakyReLU())\n",
        "            de_modulelist.append(nn.BatchNorm1d(outs))\n",
        "\n",
        "        de_modulelist = de_modulelist[:-2]  # Remove LeakyReLU activation and BatchNorm1d from output layer\n",
        "        if no_last_bias:\n",
        "            de_modulelist = de_modulelist[:-1]\n",
        "            de_modulelist.append(nn.Linear(nodes[-2], nodes[-1], bias=False))\n",
        "\n",
        "        self.encoder = nn.Sequential(*en_modulelist)\n",
        "        self.decoder = nn.Sequential(*de_modulelist)\n",
        "\n",
        "        node_string = ''\n",
        "        for layer in nodes:\n",
        "            node_string = node_string + str(layer) + '-'\n",
        "        node_string = node_string[:-1]\n",
        "        self.node_string = node_string\n",
        "\n",
        "    def encode(self, x):\n",
        "        return self.encoder(x)\n",
        "\n",
        "    def decode(self, x):\n",
        "        return self.decoder(x)\n",
        "\n",
        "    def forward(self, x):\n",
        "        return self.decode(self.encode(x))\n",
        "\n",
        "    def get_node_string(self):\n",
        "        return self.node_string"
      ],
      "execution_count": 21,
      "outputs": []
    },
    {
      "cell_type": "markdown",
      "metadata": {
        "id": "ltZ95OJAst5s"
      },
      "source": [
        "### Model Building"
      ]
    },
    {
      "cell_type": "code",
      "metadata": {
        "colab": {
          "base_uri": "https://localhost:8080/"
        },
        "id": "i2HVjsZTJr2N",
        "outputId": "2d811537-f16f-48e1-973f-d4a67017e2fe"
      },
      "source": [
        "nodes = [4, 200, 100, 50, 3, 200, 100, 50, 4]\n",
        "model = AE_bn_LeakyReLU(nodes)\n",
        "model.train()"
      ],
      "execution_count": 22,
      "outputs": [
        {
          "output_type": "execute_result",
          "data": {
            "text/plain": [
              "AE_bn_LeakyReLU(\n",
              "  (encoder): Sequential(\n",
              "    (0): Linear(in_features=4, out_features=200, bias=True)\n",
              "    (1): LeakyReLU(negative_slope=0.01)\n",
              "    (2): BatchNorm1d(200, eps=1e-05, momentum=0.1, affine=True, track_running_stats=True)\n",
              "    (3): Linear(in_features=200, out_features=100, bias=True)\n",
              "    (4): LeakyReLU(negative_slope=0.01)\n",
              "    (5): BatchNorm1d(100, eps=1e-05, momentum=0.1, affine=True, track_running_stats=True)\n",
              "    (6): Linear(in_features=100, out_features=50, bias=True)\n",
              "    (7): LeakyReLU(negative_slope=0.01)\n",
              "    (8): BatchNorm1d(50, eps=1e-05, momentum=0.1, affine=True, track_running_stats=True)\n",
              "    (9): Linear(in_features=50, out_features=3, bias=True)\n",
              "    (10): LeakyReLU(negative_slope=0.01)\n",
              "    (11): BatchNorm1d(3, eps=1e-05, momentum=0.1, affine=True, track_running_stats=True)\n",
              "  )\n",
              "  (decoder): Sequential(\n",
              "    (0): Linear(in_features=3, out_features=200, bias=True)\n",
              "    (1): LeakyReLU(negative_slope=0.01)\n",
              "    (2): BatchNorm1d(200, eps=1e-05, momentum=0.1, affine=True, track_running_stats=True)\n",
              "    (3): Linear(in_features=200, out_features=100, bias=True)\n",
              "    (4): LeakyReLU(negative_slope=0.01)\n",
              "    (5): BatchNorm1d(100, eps=1e-05, momentum=0.1, affine=True, track_running_stats=True)\n",
              "    (6): Linear(in_features=100, out_features=50, bias=True)\n",
              "    (7): LeakyReLU(negative_slope=0.01)\n",
              "    (8): BatchNorm1d(50, eps=1e-05, momentum=0.1, affine=True, track_running_stats=True)\n",
              "    (9): Linear(in_features=50, out_features=4, bias=True)\n",
              "  )\n",
              ")"
            ]
          },
          "metadata": {
            "tags": []
          },
          "execution_count": 22
        }
      ]
    },
    {
      "cell_type": "markdown",
      "metadata": {
        "id": "zsHctrpas2-b"
      },
      "source": [
        "### Loss Function and Training Parameters"
      ]
    },
    {
      "cell_type": "code",
      "metadata": {
        "id": "Q8b1ytlws9gx"
      },
      "source": [
        "from fastai.metrics import mse\n",
        "\n",
        "loss_func = nn.MSELoss()\n",
        "wd = 1e-2\n",
        "\n",
        "recorder = learner.Recorder()\n",
        "learn = learner.Learner(dls, model=model, wd=wd, loss_func=loss_func, cbs=recorder)"
      ],
      "execution_count": 24,
      "outputs": []
    },
    {
      "cell_type": "markdown",
      "metadata": {
        "id": "mbG9iZg3s8qI"
      },
      "source": [
        "### Learning Rate Plot"
      ]
    },
    {
      "cell_type": "code",
      "metadata": {
        "id": "Iyv4HLhW57yj",
        "colab": {
          "base_uri": "https://localhost:8080/",
          "height": 318
        },
        "outputId": "c5de1192-7827-4205-ae24-006cd5faff13"
      },
      "source": [
        "from fastai.callback import schedule\n",
        "\n",
        "lr_min, lr_steep = learn.lr_find()\n",
        "\n",
        "print('Learning rate with the minimum loss:', lr_min)\n",
        "print('Learning rate with the steepest gradient:', lr_steep)"
      ],
      "execution_count": 25,
      "outputs": [
        {
          "output_type": "stream",
          "text": [
            "Learning rate with the minimum loss: 0.025118863582611083\n",
            "Learning rate with the steepest gradient: 0.0002290867705596611\n"
          ],
          "name": "stdout"
        },
        {
          "output_type": "display_data",
          "data": {
            "image/png": "[encoded data removed]",
            "text/plain": [
              "<Figure size 432x288 with 1 Axes>"
            ]
          },
          "metadata": {
            "tags": [],
            "needs_background": "light"
          }
        }
      ]
    },
    {
      "cell_type": "markdown",
      "metadata": {
        "id": "IDUZYMJntCge"
      },
      "source": [
        "### Training "
      ]
    },
    {
      "cell_type": "code",
      "metadata": {
        "colab": {
          "base_uri": "https://localhost:8080/"
        },
        "id": "dLeEksTXJpfn",
        "outputId": "2b36e64b-2afb-4db6-b503-c101b18a6487"
      },
      "source": [
        "import time\n",
        "\n",
        "start = time.perf_counter() # Starts timer\n",
        "learn.fit_one_cycle(n_epoch=100, lr_max = lr_min)\n",
        "end = time.perf_counter() # Ends timer\n",
        "delta_t = end - start\n",
        "print('Training took', delta_t, 'seconds')"
      ],
      "execution_count": 26,
      "outputs": [
        {
          "output_type": "stream",
          "text": [
            "[0, 0.06960633397102356, 0.01818912662565708, '00:01']\n",
            "[0, 0.06960633397102356, 0.01818912662565708, '00:01']\n",
            "[1, 0.014041506685316563, 0.0021215942688286304, '00:01']\n",
            "[1, 0.014041506685316563, 0.0021215942688286304, '00:01']\n",
            "[2, 0.004068367183208466, 0.0016445126384496689, '00:01']\n",
            "[2, 0.004068367183208466, 0.0016445126384496689, '00:01']\n",
            "[3, 0.0020179245620965958, 0.0012818117393180728, '00:01']\n",
            "[3, 0.0020179245620965958, 0.0012818117393180728, '00:01']\n",
            "[4, 0.0013265915913507342, 0.001109319506213069, '00:01']\n",
            "[4, 0.0013265915913507342, 0.001109319506213069, '00:01']\n",
            "[5, 0.0010833954438567162, 0.0009659550851210952, '00:01']\n",
            "[5, 0.0010833954438567162, 0.0009659550851210952, '00:01']\n",
            "[6, 0.0009127570083364844, 0.0008127891924232244, '00:01']\n",
            "[6, 0.0009127570083364844, 0.0008127891924232244, '00:01']\n",
            "[7, 0.0007414204883389175, 0.000971937901340425, '00:01']\n",
            "[7, 0.0007414204883389175, 0.000971937901340425, '00:01']\n",
            "[8, 0.0006799631519243121, 0.0007150604506023228, '00:01']\n",
            "[8, 0.0006799631519243121, 0.0007150604506023228, '00:01']\n",
            "[9, 0.0006405718741007149, 0.0008730301633477211, '00:01']\n",
            "[9, 0.0006405718741007149, 0.0008730301633477211, '00:01']\n",
            "[10, 0.0006237538764253259, 0.0005506556481122971, '00:01']\n",
            "[10, 0.0006237538764253259, 0.0005506556481122971, '00:01']\n",
            "[11, 0.0006682670209556818, 0.0010933894664049149, '00:01']\n",
            "[11, 0.0006682670209556818, 0.0010933894664049149, '00:01']\n",
            "[12, 0.0007471457938663661, 0.0020959461107850075, '00:01']\n",
            "[12, 0.0007471457938663661, 0.0020959461107850075, '00:01']\n",
            "[13, 0.0006653396412730217, 0.0015228112461045384, '00:01']\n",
            "[13, 0.0006653396412730217, 0.0015228112461045384, '00:01']\n",
            "[14, 0.0007692314684391022, 0.0020179369021207094, '00:01']\n",
            "[14, 0.0007692314684391022, 0.0020179369021207094, '00:01']\n",
            "[15, 0.0006519344751723111, 0.000493790372274816, '00:01']\n",
            "[15, 0.0006519344751723111, 0.000493790372274816, '00:01']\n",
            "[16, 0.0006632385193370283, 0.0005867386353202164, '00:01']\n",
            "[16, 0.0006632385193370283, 0.0005867386353202164, '00:01']\n",
            "[17, 0.000632577168289572, 0.0006069314549677074, '00:01']\n",
            "[17, 0.000632577168289572, 0.0006069314549677074, '00:01']\n",
            "[18, 0.000550806347746402, 0.0008547194302082062, '00:01']\n",
            "[18, 0.000550806347746402, 0.0008547194302082062, '00:01']\n",
            "[19, 0.0005108797922730446, 0.0006845619645901024, '00:01']\n",
            "[19, 0.0005108797922730446, 0.0006845619645901024, '00:01']\n",
            "[20, 0.00046889230725355446, 0.00043210689909756184, '00:01']\n",
            "[20, 0.00046889230725355446, 0.00043210689909756184, '00:01']\n",
            "[21, 0.0004031119169667363, 0.00038390219560824335, '00:01']\n",
            "[21, 0.0004031119169667363, 0.00038390219560824335, '00:01']\n",
            "[22, 0.0004015532904304564, 0.00031057404703460634, '00:01']\n",
            "[22, 0.0004015532904304564, 0.00031057404703460634, '00:01']\n",
            "[23, 0.00036096732947044075, 0.0004712551599368453, '00:01']\n",
            "[23, 0.00036096732947044075, 0.0004712551599368453, '00:01']\n",
            "[24, 0.0002839707303792238, 0.0002762572839856148, '00:01']\n",
            "[24, 0.0002839707303792238, 0.0002762572839856148, '00:01']\n",
            "[25, 0.00028091840795241296, 0.0002783050003927201, '00:01']\n",
            "[25, 0.00028091840795241296, 0.0002783050003927201, '00:01']\n",
            "[26, 0.00028417023713700473, 0.0002982539008371532, '00:01']\n",
            "[26, 0.00028417023713700473, 0.0002982539008371532, '00:01']\n",
            "[27, 0.0002322299114894122, 0.00020089886675123125, '00:01']\n",
            "[27, 0.0002322299114894122, 0.00020089886675123125, '00:01']\n",
            "[28, 0.0002646464854478836, 0.00022745908063370734, '00:01']\n",
            "[28, 0.0002646464854478836, 0.00022745908063370734, '00:01']\n",
            "[29, 0.0002911857736762613, 0.0005342109361663461, '00:01']\n",
            "[29, 0.0002911857736762613, 0.0005342109361663461, '00:01']\n",
            "[30, 0.0002659889869391918, 0.00032892616582103074, '00:01']\n",
            "[30, 0.0002659889869391918, 0.00032892616582103074, '00:01']\n",
            "[31, 0.00021390130859799683, 0.00015327674918808043, '00:01']\n",
            "[31, 0.00021390130859799683, 0.00015327674918808043, '00:01']\n",
            "[32, 0.0002168678620364517, 0.00021677477343473583, '00:01']\n",
            "[32, 0.0002168678620364517, 0.00021677477343473583, '00:01']\n",
            "[33, 0.00026860868092626333, 0.000228015604079701, '00:01']\n",
            "[33, 0.00026860868092626333, 0.000228015604079701, '00:01']\n",
            "[34, 0.00023092191258911043, 0.00012117472215322778, '00:01']\n",
            "[34, 0.00023092191258911043, 0.00012117472215322778, '00:01']\n",
            "[35, 0.00023477883951272815, 0.0005366464029066265, '00:01']\n",
            "[35, 0.00023477883951272815, 0.0005366464029066265, '00:01']\n",
            "[36, 0.0002328055416001007, 0.0001567052968312055, '00:01']\n",
            "[36, 0.0002328055416001007, 0.0001567052968312055, '00:01']\n",
            "[37, 0.0002279423933941871, 9.734381455928087e-05, '00:01']\n",
            "[37, 0.0002279423933941871, 9.734381455928087e-05, '00:01']\n",
            "[38, 0.000217593289562501, 0.00022604996047448367, '00:01']\n",
            "[38, 0.000217593289562501, 0.00022604996047448367, '00:01']\n",
            "[39, 0.00021586926595773548, 0.0004326032067183405, '00:01']\n",
            "[39, 0.00021586926595773548, 0.0004326032067183405, '00:01']\n",
            "[40, 0.00021300805383361876, 9.965224307961762e-05, '00:01']\n",
            "[40, 0.00021300805383361876, 9.965224307961762e-05, '00:01']\n",
            "[41, 0.00020773943106178194, 8.661159517941996e-05, '00:01']\n",
            "[41, 0.00020773943106178194, 8.661159517941996e-05, '00:01']\n",
            "[42, 0.0002136077091563493, 0.00013778651191387326, '00:01']\n",
            "[42, 0.0002136077091563493, 0.00013778651191387326, '00:01']\n",
            "[43, 0.00021197415480855852, 0.00021711899898946285, '00:01']\n",
            "[43, 0.00021197415480855852, 0.00021711899898946285, '00:01']\n",
            "[44, 0.00024161621695384383, 0.0001700421707937494, '00:01']\n",
            "[44, 0.00024161621695384383, 0.0001700421707937494, '00:01']\n",
            "[45, 0.00022197337239049375, 0.00022373127285391092, '00:01']\n",
            "[45, 0.00022197337239049375, 0.00022373127285391092, '00:01']\n",
            "[46, 0.00020947620214428753, 0.00016789379878900945, '00:01']\n",
            "[46, 0.00020947620214428753, 0.00016789379878900945, '00:01']\n",
            "[47, 0.00020051340106874704, 0.00012412732758093625, '00:01']\n",
            "[47, 0.00020051340106874704, 0.00012412732758093625, '00:01']\n",
            "[48, 0.00020185191533528268, 0.00013095025497023016, '00:01']\n",
            "[48, 0.00020185191533528268, 0.00013095025497023016, '00:01']\n",
            "[49, 0.0001816893636714667, 0.00016847567167133093, '00:01']\n",
            "[49, 0.0001816893636714667, 0.00016847567167133093, '00:01']\n",
            "[50, 0.00017824511451181024, 0.00013672966451849788, '00:01']\n",
            "[50, 0.00017824511451181024, 0.00013672966451849788, '00:01']\n",
            "[51, 0.00017213622049894184, 0.0002713906578719616, '00:01']\n",
            "[51, 0.00017213622049894184, 0.0002713906578719616, '00:01']\n",
            "[52, 0.0002497761743143201, 0.00010484907397767529, '00:01']\n",
            "[52, 0.0002497761743143201, 0.00010484907397767529, '00:01']\n",
            "[53, 0.00018177329911850393, 0.000102179117675405, '00:01']\n",
            "[53, 0.00018177329911850393, 0.000102179117675405, '00:01']\n",
            "[54, 0.00017039926024153829, 0.00019191492174286395, '00:01']\n",
            "[54, 0.00017039926024153829, 0.00019191492174286395, '00:01']\n",
            "[55, 0.0001745093468343839, 5.685460564563982e-05, '00:01']\n",
            "[55, 0.0001745093468343839, 5.685460564563982e-05, '00:01']\n",
            "[56, 0.00014993299555499107, 9.725611744215712e-05, '00:01']\n",
            "[56, 0.00014993299555499107, 9.725611744215712e-05, '00:01']\n",
            "[57, 0.0001658024120843038, 6.224130629561841e-05, '00:01']\n",
            "[57, 0.0001658024120843038, 6.224130629561841e-05, '00:01']\n",
            "[58, 0.0001493771851528436, 5.137316111358814e-05, '00:01']\n",
            "[58, 0.0001493771851528436, 5.137316111358814e-05, '00:01']\n",
            "[59, 0.0001562008837936446, 0.00015270529547706246, '00:01']\n",
            "[59, 0.0001562008837936446, 0.00015270529547706246, '00:01']\n",
            "[60, 0.00015363306738436222, 8.473687194054946e-05, '00:01']\n",
            "[60, 0.00015363306738436222, 8.473687194054946e-05, '00:01']\n",
            "[61, 0.00014673269470222294, 0.00010258433758281171, '00:01']\n",
            "[61, 0.00014673269470222294, 0.00010258433758281171, '00:01']\n",
            "[62, 0.00014293765707407147, 8.862822141963989e-05, '00:01']\n",
            "[62, 0.00014293765707407147, 8.862822141963989e-05, '00:01']\n",
            "[63, 0.0001369316887576133, 4.9357800889993086e-05, '00:01']\n",
            "[63, 0.0001369316887576133, 4.9357800889993086e-05, '00:01']\n",
            "[64, 0.00019232288468629122, 0.00012733001494780183, '00:01']\n",
            "[64, 0.00019232288468629122, 0.00012733001494780183, '00:01']\n",
            "[65, 0.00016350274381693453, 9.623078949516639e-05, '00:01']\n",
            "[65, 0.00016350274381693453, 9.623078949516639e-05, '00:01']\n",
            "[66, 0.00015137500304263085, 2.816776577674318e-05, '00:01']\n",
            "[66, 0.00015137500304263085, 2.816776577674318e-05, '00:01']\n",
            "[67, 0.00015643835649825633, 9.880655125016347e-05, '00:01']\n",
            "[67, 0.00015643835649825633, 9.880655125016347e-05, '00:01']\n",
            "[68, 0.0001277643459616229, 6.673164898529649e-05, '00:01']\n",
            "[68, 0.0001277643459616229, 6.673164898529649e-05, '00:01']\n",
            "[69, 0.00013497992767952383, 4.499164060689509e-05, '00:01']\n",
            "[69, 0.00013497992767952383, 4.499164060689509e-05, '00:01']\n",
            "[70, 0.00012697333295363933, 4.608172821463086e-05, '00:01']\n",
            "[70, 0.00012697333295363933, 4.608172821463086e-05, '00:01']\n",
            "[71, 0.00012347147276159376, 3.638161433627829e-05, '00:01']\n",
            "[71, 0.00012347147276159376, 3.638161433627829e-05, '00:01']\n",
            "[72, 0.00012563464406412095, 3.500448656268418e-05, '00:01']\n",
            "[72, 0.00012563464406412095, 3.500448656268418e-05, '00:01']\n",
            "[73, 0.00012959973537363112, 4.758766954182647e-05, '00:01']\n",
            "[73, 0.00012959973537363112, 4.758766954182647e-05, '00:01']\n",
            "[74, 0.00012649944983422756, 1.2838116163038649e-05, '00:01']\n",
            "[74, 0.00012649944983422756, 1.2838116163038649e-05, '00:01']\n",
            "[75, 0.00010770673543447629, 3.0669620173284784e-05, '00:01']\n",
            "[75, 0.00010770673543447629, 3.0669620173284784e-05, '00:01']\n",
            "[76, 0.00012183727812953293, 5.1779010391328484e-05, '00:01']\n",
            "[76, 0.00012183727812953293, 5.1779010391328484e-05, '00:01']\n",
            "[77, 0.0001203468709718436, 2.6239915314363316e-05, '00:01']\n",
            "[77, 0.0001203468709718436, 2.6239915314363316e-05, '00:01']\n",
            "[78, 0.0001223501458298415, 3.628906051744707e-05, '00:01']\n",
            "[78, 0.0001223501458298415, 3.628906051744707e-05, '00:01']\n",
            "[79, 0.00012775433424394578, 2.5308261683676392e-05, '00:01']\n",
            "[79, 0.00012775433424394578, 2.5308261683676392e-05, '00:01']\n",
            "[80, 9.923313336912543e-05, 2.481187038938515e-05, '00:01']\n",
            "[80, 9.923313336912543e-05, 2.481187038938515e-05, '00:01']\n",
            "[81, 0.00010471770656295121, 2.8584152460098267e-05, '00:01']\n",
            "[81, 0.00010471770656295121, 2.8584152460098267e-05, '00:01']\n",
            "[82, 9.728712029755116e-05, 2.4036557078943588e-05, '00:01']\n",
            "[82, 9.728712029755116e-05, 2.4036557078943588e-05, '00:01']\n",
            "[83, 8.984201122075319e-05, 2.5071734853554517e-05, '00:01']\n",
            "[83, 8.984201122075319e-05, 2.5071734853554517e-05, '00:01']\n",
            "[84, 9.528351802146062e-05, 1.5005514796939678e-05, '00:01']\n",
            "[84, 9.528351802146062e-05, 1.5005514796939678e-05, '00:01']\n",
            "[85, 8.705014624865726e-05, 2.933704490715172e-05, '00:01']\n",
            "[85, 8.705014624865726e-05, 2.933704490715172e-05, '00:01']\n",
            "[86, 8.105068263830617e-05, 1.9415636415942572e-05, '00:01']\n",
            "[86, 8.105068263830617e-05, 1.9415636415942572e-05, '00:01']\n",
            "[87, 0.00010439243487780914, 1.7654510884312913e-05, '00:01']\n",
            "[87, 0.00010439243487780914, 1.7654510884312913e-05, '00:01']\n",
            "[88, 0.00011559995618881658, 1.601256190042477e-05, '00:01']\n",
            "[88, 0.00011559995618881658, 1.601256190042477e-05, '00:01']\n",
            "[89, 9.543566557113081e-05, 1.2321557733230293e-05, '00:01']\n",
            "[89, 9.543566557113081e-05, 1.2321557733230293e-05, '00:01']\n",
            "[90, 9.89949912764132e-05, 1.4324472431326285e-05, '00:01']\n",
            "[90, 9.89949912764132e-05, 1.4324472431326285e-05, '00:01']\n",
            "[91, 8.170152432285249e-05, 8.083866305241827e-06, '00:01']\n",
            "[91, 8.170152432285249e-05, 8.083866305241827e-06, '00:01']\n",
            "[92, 7.870559784350917e-05, 1.12317648017779e-05, '00:01']\n",
            "[92, 7.870559784350917e-05, 1.12317648017779e-05, '00:01']\n",
            "[93, 7.577432552352548e-05, 1.9601700842031278e-05, '00:01']\n",
            "[93, 7.577432552352548e-05, 1.9601700842031278e-05, '00:01']\n",
            "[94, 7.808868394931778e-05, 1.5617501048836857e-05, '00:01']\n",
            "[94, 7.808868394931778e-05, 1.5617501048836857e-05, '00:01']\n",
            "[95, 7.704726158408448e-05, 1.230669022334041e-05, '00:01']\n",
            "[95, 7.704726158408448e-05, 1.230669022334041e-05, '00:01']\n",
            "[96, 7.47246594983153e-05, 9.239594874088652e-06, '00:01']\n",
            "[96, 7.47246594983153e-05, 9.239594874088652e-06, '00:01']\n",
            "[97, 7.237136014737189e-05, 9.914509973896202e-06, '00:01']\n",
            "[97, 7.237136014737189e-05, 9.914509973896202e-06, '00:01']\n",
            "[98, 7.399726018775254e-05, 7.971966624609195e-06, '00:01']\n",
            "[98, 7.399726018775254e-05, 7.971966624609195e-06, '00:01']\n",
            "[99, 7.88480174378492e-05, 7.679429472773336e-06, '00:01']\n",
            "[99, 7.88480174378492e-05, 7.679429472773336e-06, '00:01']\n",
            "Training took 185.61811138600024 seconds\n"
          ],
          "name": "stdout"
        }
      ]
    },
    {
      "cell_type": "markdown",
      "metadata": {
        "id": "fFF6dzvVtGcw"
      },
      "source": [
        "### Loss vs epoch plot"
      ]
    },
    {
      "cell_type": "code",
      "metadata": {
        "colab": {
          "base_uri": "https://localhost:8080/",
          "height": 265
        },
        "id": "izSAkSX1JskU",
        "outputId": "91838540-6d27-4f9d-f507-9039e260d0f4"
      },
      "source": [
        "recorder.plot_loss()"
      ],
      "execution_count": 27,
      "outputs": [
        {
          "output_type": "display_data",
          "data": {
            "image/png": "[encoded data removed]",
            "text/plain": [
              "<Figure size 432x288 with 1 Axes>"
            ]
          },
          "metadata": {
            "tags": [],
            "needs_background": "light"
          }
        }
      ]
    },
    {
      "cell_type": "code",
      "metadata": {
        "colab": {
          "base_uri": "https://localhost:8080/"
        },
        "id": "lRUPQmKLtgMj",
        "outputId": "5e56d7e0-0986-4b7a-b4e9-6959667123d0"
      },
      "source": [
        "learn.save('/content/drive/MyDrive/Deep Compression Task/Model/AE_3D_200_ReLU_BN_custom_norm')"
      ],
      "execution_count": 44,
      "outputs": [
        {
          "output_type": "execute_result",
          "data": {
            "text/plain": [
              "Path('/content/drive/MyDrive/Deep Compression Task/Model/AE_3D_200_ReLU_BN_custom_norm.pth')"
            ]
          },
          "metadata": {
            "tags": []
          },
          "execution_count": 44
        }
      ]
    },
    {
      "cell_type": "markdown",
      "metadata": {
        "id": "aTcRQ2_ct527"
      },
      "source": [
        "### Evaluating on the test set\n"
      ]
    },
    {
      "cell_type": "code",
      "metadata": {
        "colab": {
          "base_uri": "https://localhost:8080/"
        },
        "id": "FOHlfMdrt9wa",
        "outputId": "31bc530a-8c69-42f5-dc15-fed8e1ebbe0c"
      },
      "source": [
        "learn.load('/content/drive/MyDrive/Deep Compression Task/Model/AE_3D_200_ReLU_BN_custom_norm')"
      ],
      "execution_count": 45,
      "outputs": [
        {
          "output_type": "execute_result",
          "data": {
            "text/plain": [
              "<fastai.learner.Learner at 0x7f8a2252f410>"
            ]
          },
          "metadata": {
            "tags": []
          },
          "execution_count": 45
        }
      ]
    },
    {
      "cell_type": "code",
      "metadata": {
        "colab": {
          "base_uri": "https://localhost:8080/"
        },
        "id": "nNoZPlMbLHhq",
        "outputId": "e2691241-6bda-42c7-a545-0faff44e1760"
      },
      "source": [
        "learn.validate()"
      ],
      "execution_count": 54,
      "outputs": [
        {
          "output_type": "execute_result",
          "data": {
            "text/plain": [
              "(#1) [7.679429472773336e-06]"
            ]
          },
          "metadata": {
            "tags": []
          },
          "execution_count": 54
        }
      ]
    },
    {
      "cell_type": "code",
      "metadata": {
        "id": "-2Lv9KxTM7jH"
      },
      "source": [
        "curr_save_folder = '/content/drive/MyDrive/Deep Compression Task/plots/AE_3D_200_ReLU_BN_custom_norm/'"
      ],
      "execution_count": 35,
      "outputs": []
    },
    {
      "cell_type": "markdown",
      "metadata": {
        "id": "lKWSKgxMwKUo"
      },
      "source": [
        "### Input(Uncompressed data) vs Output(Compressed data) Plot"
      ]
    },
    {
      "cell_type": "code",
      "metadata": {
        "colab": {
          "base_uri": "https://localhost:8080/",
          "height": 1000
        },
        "id": "Y6Ys1rQiPEog",
        "outputId": "52c7b06b-fbc9-4a67-b8c7-9360fa848289"
      },
      "source": [
        "plt.close('all')\n",
        "unit_list = ['[GeV]', '[GeV]', '[rad]', '[rad]']\n",
        "variable_list = [r'$m$', r'$p_t$', r'$\\phi$', r'$\\eta$']\n",
        "line_style = ['--', '-']\n",
        "colors = ['orange', 'c']\n",
        "markers = ['*', 's']\n",
        "\n",
        "model.to('cpu')\n",
        "\n",
        "# Histograms\n",
        "idxs = (0, len(test))  # Choose events to compare\n",
        "data = torch.tensor(test_x[idxs[0]:idxs[1]].values)\n",
        "pred = model(data).detach().numpy()\n",
        "pred = custom_unnormalize_4m(pred)\n",
        "data = custom_unnormalize_4m(data.detach().numpy())\n",
        "\n",
        "alph = 0.8\n",
        "n_bins = 50\n",
        "for kk in np.arange(4):\n",
        "    plt.figure(kk + 4)\n",
        "    n_hist_data, bin_edges, _ = plt.hist(data[:, kk], color=colors[1], label='Input', alpha=1, bins=n_bins)\n",
        "    n_hist_pred, _, _ = plt.hist(pred[:, kk], color=colors[0], label='Output', alpha=alph, bins=bin_edges)\n",
        "    plt.suptitle(train_x.columns[kk])\n",
        "    plt.xlabel(variable_list[kk] + ' ' + unit_list[kk])\n",
        "    plt.ylabel('Number of events')\n",
        "    sciy()\n",
        "    # plt.yscale('log')\n",
        "    plt.legend()\n",
        "    fig_name = '200_ReLU_BN_cus_norm_hist_%s' % train.columns[kk]\n",
        "    plt.savefig(curr_save_folder + fig_name)"
      ],
      "execution_count": 38,
      "outputs": [
        {
          "output_type": "display_data",
          "data": {
            "image/png": "[encoded data removed]",
            "text/plain": [
              "<Figure size 432x288 with 1 Axes>"
            ]
          },
          "metadata": {
            "tags": [],
            "needs_background": "light"
          }
        },
        {
          "output_type": "display_data",
          "data": {
            "image/png": "[encoded data removed]",
            "text/plain": [
              "<Figure size 432x288 with 1 Axes>"
            ]
          },
          "metadata": {
            "tags": [],
            "needs_background": "light"
          }
        },
        {
          "output_type": "display_data",
          "data": {
            "image/png": "[encoded data removed]",
            "text/plain": [
              "<Figure size 432x288 with 1 Axes>"
            ]
          },
          "metadata": {
            "tags": [],
            "needs_background": "light"
          }
        },
        {
          "output_type": "display_data",
          "data": {
            "image/png": "[encoded data removed]",
            "text/plain": [
              "<Figure size 432x288 with 1 Axes>"
            ]
          },
          "metadata": {
            "tags": [],
            "needs_background": "light"
          }
        }
      ]
    },
    {
      "cell_type": "markdown",
      "metadata": {
        "id": "0JaxU0akwb4S"
      },
      "source": [
        "### Plot of relative reconstruction error for each variable"
      ]
    },
    {
      "cell_type": "code",
      "metadata": {
        "colab": {
          "base_uri": "https://localhost:8080/",
          "height": 1000
        },
        "id": "K9KdMIIhPNFl",
        "outputId": "e6b88b03-16ea-4adf-e29d-4ae2763b0710"
      },
      "source": [
        "from scipy import stats\n",
        "residual_strings = [r'$(E_{out} - E_{in}) / E_{in}$',\n",
        "                    r'$(p_{T,out} - p_{T,in}) / p_{T,in}$',\n",
        "                        r'$(\\phi_{out} - \\phi_{in}) / \\phi_{in}$',\n",
        "                        r'$(\\eta_{out} - \\eta_{in}) / \\eta_{in}$',]\n",
        "\n",
        "data[:,0][(data[:,0]<1e-3)] += 1\n",
        "residuals = np.true_divide(pred - data, data)\n",
        "range = (-.02, .02)\n",
        "#range=None\n",
        "for kk in np.arange(4):\n",
        "    plt.figure()\n",
        "    n_hist_pred, bin_edges, _ = plt.hist(\n",
        "        residuals[:, kk], label='Residuals', linestyle=line_style[0], alpha=alph, bins=100, range=range)\n",
        "    plt.suptitle('Residuals of %s' % train.columns[kk])\n",
        "    plt.xlabel(residual_strings[kk])  # (train.columns[kk], train.columns[kk], train.columns[kk]))\n",
        "    plt.ylabel('Number of jets')\n",
        "    sciy()\n",
        "    plt.yscale('log')\n",
        "    std = np.std(residuals[:, kk])\n",
        "    std_err = std_error(residuals[:, kk])\n",
        "    mean = np.nanmean(residuals[:, kk])\n",
        "    sem = stats.sem(residuals[:, kk], nan_policy='omit')\n",
        "    ax = plt.gca()\n",
        "    print(train.columns[kk],'Mean: ', mean, '\\pm', sem, ' Sigma: ', std, '\\pm', std_err )\n",
        "    plt.text(.75, .9, 'Mean = %f$\\pm$%f\\n$\\sigma$ = %f$\\pm$%f' % (mean, sem, std, std_err), bbox={'facecolor': 'white', 'alpha': 0.7, 'pad': 10},\n",
        "             horizontalalignment='center', verticalalignment='center', transform=ax.transAxes, fontsize=10)\n",
        "    fig_name = '200_ReLU_BN_cus_norm_residual_%s' % train.columns[kk]\n",
        "#     plt.savefig(curr_save_folder + fig_name)"
      ],
      "execution_count": 55,
      "outputs": [
        {
          "output_type": "stream",
          "text": [
            "E Mean:  -0.0014671844 \\pm 0.00010176111646336089  Sigma:  0.004950864 \\pm 7.194077794630857e-05\n",
            "pt Mean:  -0.0002668157 \\pm 8.924652505074376e-06  Sigma:  0.00043420063 \\pm 6.309349727859862e-06\n",
            "eta Mean:  0.019458054 \\pm 0.0372434633545529  Sigma:  1.8119624 \\pm 0.026329543319033557\n",
            "phi Mean:  -0.031896308 \\pm 0.016692175218952995  Sigma:  0.81210476 \\pm 0.01180065761858372\n"
          ],
          "name": "stdout"
        },
        {
          "output_type": "display_data",
          "data": {
            "image/png": "[encoded data removed]",
            "text/plain": [
              "<Figure size 432x288 with 1 Axes>"
            ]
          },
          "metadata": {
            "tags": [],
            "needs_background": "light"
          }
        },
        {
          "output_type": "display_data",
          "data": {
            "image/png": "[encoded data removed]",
            "text/plain": [
              "<Figure size 432x288 with 1 Axes>"
            ]
          },
          "metadata": {
            "tags": [],
            "needs_background": "light"
          }
        },
        {
          "output_type": "display_data",
          "data": {
            "image/png": "[encoded data removed]",
            "text/plain": [
              "<Figure size 432x288 with 1 Axes>"
            ]
          },
          "metadata": {
            "tags": [],
            "needs_background": "light"
          }
        },
        {
          "output_type": "display_data",
          "data": {
            "image/png": "[encoded data removed]",
            "text/plain": [
              "<Figure size 432x288 with 1 Axes>"
            ]
          },
          "metadata": {
            "tags": [],
            "needs_background": "light"
          }
        }
      ]
    },
    {
      "cell_type": "code",
      "metadata": {
        "id": "u_y5aNVZohRX"
      },
      "source": [
        ""
      ],
      "execution_count": null,
      "outputs": []
    }
  ]
}